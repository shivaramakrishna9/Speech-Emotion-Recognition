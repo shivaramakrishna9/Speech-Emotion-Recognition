{
 "cells": [
  {
   "cell_type": "code",
   "execution_count": null,
   "id": "0be8d3ef",
   "metadata": {},
   "outputs": [],
   "source": [
    "import os\n",
    "import numpy as np\n",
    "import pandas as pd\n",
    "import librosa\n",
    "from sklearn.preprocessing import OneHotEncoder\n",
    "from sklearn.model_selection import train_test_split\n",
    "from concurrent.futures import ThreadPoolExecutor"
   ]
  },
  {
   "cell_type": "code",
   "execution_count": null,
   "id": "765278f0",
   "metadata": {},
   "outputs": [],
   "source": [
    "AUDIO_PATH = './AudioWAV/'  "
   ]
  },
  {
   "cell_type": "code",
   "execution_count": null,
   "id": "89c5f9f1",
   "metadata": {},
   "outputs": [],
   "source": [
    "def load_data():\n",
    "    file_emotion = []\n",
    "    file_path = []\n",
    "    directory_list = os.listdir(AUDIO_PATH)\n",
    "\n",
    "    for file in directory_list:\n",
    "        part = file.split('_')\n",
    "        if part[2] == 'SAD':\n",
    "            file_emotion.append('sad')\n",
    "        elif part[2] == 'ANG':\n",
    "            file_emotion.append('angry')\n",
    "        elif part[2] == 'DIS':\n",
    "            file_emotion.append('disgust')\n",
    "        elif part[2] == 'FEA':\n",
    "            file_emotion.append('fear')\n",
    "        elif part[2] == 'HAP':\n",
    "            file_emotion.append('happy')\n",
    "        elif part[2] == 'NEU':\n",
    "            file_emotion.append('neutral')\n",
    "        file_path.append(AUDIO_PATH + file)\n",
    "\n",
    "    crema_df = pd.DataFrame({'Emotions': file_emotion, 'Path': file_path})\n",
    "    return crema_df"
   ]
  },
  {
   "cell_type": "code",
   "execution_count": null,
   "id": "bb5625b4",
   "metadata": {},
   "outputs": [],
   "source": [
    "def extract_features(data, sample_rate):\n",
    "    result = np.array([])\n",
    "    mfcc = np.mean(librosa.feature.mfcc(y=data, sr=sample_rate, n_mfcc=20).T, axis=0)\n",
    "    result = np.hstack((result, mfcc))\n",
    "    return result"
   ]
  },
  {
   "cell_type": "code",
   "execution_count": null,
   "id": "e6f0e543",
   "metadata": {},
   "outputs": [],
   "source": [
    "def get_features(path):\n",
    "    data, sample_rate = librosa.load(path, duration=2.5, offset=0.6)\n",
    "    result = np.array(extract_features(data, sample_rate))\n",
    "    noise_data = data + 0.035 * np.random.uniform() * np.amax(data) * np.random.normal(size=data.shape[0])\n",
    "    result = np.vstack((result, extract_features(noise_data, sample_rate)))\n",
    "\n",
    "    return result"
   ]
  },
  {
   "cell_type": "code",
   "execution_count": null,
   "id": "95eacda8",
   "metadata": {},
   "outputs": [],
   "source": [
    "def prepare_dataset():\n",
    "    crema_df = load_data()\n",
    "    X, Y = [], []\n",
    "    with ThreadPoolExecutor() as executor:\n",
    "        futures = []\n",
    "        for path, emotion in zip(crema_df.Path, crema_df.Emotions):\n",
    "            futures.append(executor.submit(get_features, path))\n",
    "        \n",
    "        for future, emotion in zip(futures, crema_df.Emotions):\n",
    "            features = future.result()\n",
    "            for feature in features:\n",
    "                X.append(feature)\n",
    "                Y.append(emotion)\n",
    "\n",
    "    return np.array(X), np.array(Y)"
   ]
  },
  {
   "cell_type": "code",
   "execution_count": null,
   "id": "bc872698",
   "metadata": {},
   "outputs": [],
   "source": [
    "def preprocess_data():\n",
    "    X, Y = prepare_dataset()\n",
    "    encoder = OneHotEncoder()\n",
    "    Y = encoder.fit_transform(Y.reshape(-1, 1)).toarray()\n",
    "    \n",
    "    x_train, x_test, y_train, y_test = train_test_split(X, Y, random_state=42, shuffle=True)\n",
    "    return x_train, x_test, y_train, y_test"
   ]
  },
  {
   "cell_type": "code",
   "execution_count": null,
   "id": "985e47c2",
   "metadata": {},
   "outputs": [],
   "source": [
    "if __name__ == \"__main__\":\n",
    "    x_train, x_test, y_train, y_test = preprocess_data()\n",
    "    \n",
    "    \n",
    "    features_df = pd.DataFrame(x_train)\n",
    "    features_df['label'] = y_train.argmax(axis=1)  \n",
    "    features_df.to_csv(\"features.csv\", index=False)\n",
    "    \n",
    "    print(\"Data preprocessing complete. Features saved to features.csv\")"
   ]
  }
 ],
 "metadata": {
  "kernelspec": {
   "display_name": "Python 3 (ipykernel)",
   "language": "python",
   "name": "python3"
  },
  "language_info": {
   "codemirror_mode": {
    "name": "ipython",
    "version": 3
   },
   "file_extension": ".py",
   "mimetype": "text/x-python",
   "name": "python",
   "nbconvert_exporter": "python",
   "pygments_lexer": "ipython3",
   "version": "3.10.9"
  }
 },
 "nbformat": 4,
 "nbformat_minor": 5
}
